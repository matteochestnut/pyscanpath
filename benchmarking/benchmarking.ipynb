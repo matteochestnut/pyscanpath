{
 "cells": [
  {
   "cell_type": "code",
   "execution_count": 1,
   "metadata": {},
   "outputs": [
    {
     "name": "stderr",
     "output_type": "stream",
     "text": [
      "/Users/matteocastagna/Documents/GitHub/castagna-pyscanpath/pyscanpath/models/Iorroi/iorroi_utils.py:185: UserWarning: The given NumPy array is not writable, and PyTorch does not support non-writable tensors. This means writing to this tensor will result in undefined behavior. You may want to copy the array to protect its data or make it writable before converting it to a tensor. This type of warning will be suppressed for the rest of this program. (Triggered internally at /Users/runner/work/_temp/anaconda/conda-bld/pytorch_1708025536809/work/torch/csrc/utils/tensor_numpy.cpp:212.)\n",
      "  gaussian_kernel = nn.Parameter(torch.from_numpy(gaussian_kernel).float().unsqueeze(1))\n"
     ]
    }
   ],
   "source": [
    "import cv2\n",
    "import matplotlib.pyplot as plt\n",
    "import numpy as np\n",
    "from PIL import Image\n",
    "\n",
    "import os \n",
    "path = os.path.abspath(os.path.join(os.getcwd(), os.pardir))\n",
    "os.chdir(path)\n",
    "\n",
    "from pyscanpath.models.CLE import CLE\n",
    "from pyscanpath.models.IttiKoch import IttiKoch\n",
    "from pyscanpath.models.Deepgaze import Deepgaze\n",
    "from pyscanpath.models.IORROI import IORROI\n",
    "from pyscanpath.utils.metrics import scaled_euclidean_distance, mannan_distance, levenshtein_distance, scaled_time_delay_embedding_distance\n",
    "from pyscanpath.utils.datasets import *"
   ]
  },
  {
   "cell_type": "code",
   "execution_count": 2,
   "metadata": {},
   "outputs": [
    {
     "name": "stderr",
     "output_type": "stream",
     "text": [
      "Using cache found in /Users/matteocastagna/.cache/torch/hub/pytorch_vision_v0.6.0\n",
      "/Users/matteocastagna/anaconda3/envs/natural_interaction/lib/python3.10/site-packages/torchvision/models/_utils.py:208: UserWarning: The parameter 'pretrained' is deprecated since 0.13 and may be removed in the future, please use 'weights' instead.\n",
      "  warnings.warn(\n",
      "/Users/matteocastagna/anaconda3/envs/natural_interaction/lib/python3.10/site-packages/torchvision/models/_utils.py:223: UserWarning: Arguments other than a weight enum or `None` for 'weights' are deprecated since 0.13 and may be removed in the future. The current behavior is equivalent to passing `weights=DenseNet201_Weights.IMAGENET1K_V1`. You can also use `weights=DenseNet201_Weights.DEFAULT` to get the most up-to-date weights.\n",
      "  warnings.warn(msg)\n"
     ]
    }
   ],
   "source": [
    "itti = IttiKoch()\n",
    "cle = CLE()\n",
    "deepgaze = Deepgaze()\n",
    "iorroi = IORROI()"
   ]
  },
  {
   "cell_type": "code",
   "execution_count": 3,
   "metadata": {},
   "outputs": [
    {
     "name": "stderr",
     "output_type": "stream",
     "text": [
      "/Users/matteocastagna/Documents/GitHub/castagna-pyscanpath/pyscanpath/models/Deepgaze.py:48: UserWarning: Creating a tensor from a list of numpy.ndarrays is extremely slow. Please consider converting the list to a single numpy.ndarray with numpy.array() before converting to a tensor. (Triggered internally at /Users/runner/work/_temp/anaconda/conda-bld/pytorch_1708025536809/work/torch/csrc/utils/tensor_new.cpp:278.)\n",
      "  image_tensor = torch.tensor([self.img.transpose(2, 0, 1)]).to(self.device)\n"
     ]
    }
   ],
   "source": [
    "num_examples = 100\n",
    "\n",
    "dataset = 'MIT1003'\n",
    "data_location = 'pysaliency_datasets'\n",
    "\n",
    "stimuli_indices = np.array(np.random.uniform(0, 1003, num_examples), dtype=np.int32)\n",
    "subject_indices = np.array(np.random.uniform(0, 15, num_examples), dtype=np.int32)\n",
    "\n",
    "stimuli_index = 100\n",
    "subject_index = 0\n",
    "\n",
    "# number of stimuli X number of metrics X number of models\n",
    "metrics = np.zeros( (num_examples, 4, 4) )\n",
    "# number of stimuli X scanpath length X number corrdinates X number of models\n",
    "scanpaths = np.zeros( (num_examples, 10, 2, 4) )\n",
    "\n",
    "for i in range(num_examples):\n",
    "    stimuli_index = stimuli_indices[i]\n",
    "    subject_index = subject_indices[i]\n",
    "    img_path, img, scanpath = getDatasetScanpath(dataset, data_location, stimuli_index, subject_index)\n",
    "    \n",
    "    itti_scanpath = itti.getScanPath(img_path)\n",
    "    cle_scanpath = cle.getScanPath(img_path)\n",
    "    deepgaze_scanpath = deepgaze.getScanPath(img_path)\n",
    "    iorroi_scanpath = iorroi.getScanPath(img_path)\n",
    "    \n",
    "    scanpath_list = [itti_scanpath, cle_scanpath, deepgaze_scanpath, iorroi_scanpath]\n",
    "    scanpaths[i, :, :, 0] = itti_scanpath\n",
    "    scanpaths[i, :, :, 1] = cle_scanpath\n",
    "    scanpaths[i, :, :, 2] = deepgaze_scanpath\n",
    "    scanpaths[i, :, :, 3] = iorroi_scanpath\n",
    "\n",
    "    for j in range(len(scanpath_list)):\n",
    "        metrics[i, 0, j] = scaled_euclidean_distance(scanpath, scanpath_list[j], img.shape[0], img.shape[1])\n",
    "        metrics[i, 1, j] = mannan_distance(scanpath, scanpath_list[j], img.shape[0], img.shape[1])\n",
    "        metrics[i, 2, j] = levenshtein_distance(scanpath, scanpath_list[j], img.shape[0], img.shape[1])\n",
    "        metrics[i, 3, j] = scaled_time_delay_embedding_distance(scanpath, scanpath_list[j], img.shape[0], img.shape[1])\n",
    "        "
   ]
  },
  {
   "cell_type": "code",
   "execution_count": null,
   "metadata": {},
   "outputs": [],
   "source": [
    "os.chdir(os.getcwd()+'/benchmarking')\n",
    "\n",
    "indices = np.array( [stimuli_indices, subject_indices] )\n",
    "\n",
    "np.save( 'indices', indices )\n",
    "np.save('scanpaths', scanpaths)\n",
    "np.save('metrics', metrics)"
   ]
  },
  {
   "cell_type": "code",
   "execution_count": 3,
   "metadata": {},
   "outputs": [
    {
     "name": "stdout",
     "output_type": "stream",
     "text": [
      "Model         Euclidean                               Mannan                                   Levenshtein                             TDE\n",
      "------------  --------------------------------------  ---------------------------------------  --------------------------------------  ---------------------------------------\n",
      "Itti-Koch     0.6316808246143505±0.09588030263556774  0.20325806710941155±0.15752455340286106  0.9334242424242426±0.07867148161946623  0.8239454301507567±0.02949117372864575\n",
      "CLE           0.6316808246143505±0.09588030263556774  0.3205503482927721±0.21099714103625028   0.9340909090909092±0.08024111392320248  0.8239454301507567±0.02949117372864575\n",
      "DeepGaze III  0.6316808246143505±0.09588030263556774  0.3530583646761098±0.19926709823016775   0.8915000000000002±0.10476150162260095  0.8239454301507567±0.02949117372864575\n",
      "IOR-ROI       0.2679593789346804±0.08293430491692275  0.33358688917715024±0.22176497324534683  0.903515151515152±0.08885298057996181   0.9253581910107787±0.016948419250116992\n"
     ]
    }
   ],
   "source": [
    "from tabulate import tabulate\n",
    "\n",
    "metrics_load = np.load('metrics.npy')\n",
    "\n",
    "metrics_avg = np.mean(metrics_load, 0).transpose()\n",
    "metrics_std = np.std(metrics_load, 0).transpose()\n",
    "\n",
    "headers = ['Model', 'Euclidean', 'Mannan', 'Levenshtein', 'TDE']\n",
    "table = [ ['Itti-Koch'], ['CLE'], ['DeepGaze III'], ['IOR-ROI']]\n",
    "for i in range(metrics_avg.shape[0]):\n",
    "    row = [None] * metrics_avg.shape[1]\n",
    "    for j in range(metrics_avg.shape[1]):\n",
    "        row[j] = str(metrics_avg[i,j]) + u\"\\u00B1\" + str(metrics_std[i,j])\n",
    "        table[i].append(row[j])\n",
    "        \n",
    "print(tabulate(table, headers))"
   ]
  }
 ],
 "metadata": {
  "kernelspec": {
   "display_name": "natural_interaction",
   "language": "python",
   "name": "python3"
  },
  "language_info": {
   "codemirror_mode": {
    "name": "ipython",
    "version": 3
   },
   "file_extension": ".py",
   "mimetype": "text/x-python",
   "name": "python",
   "nbconvert_exporter": "python",
   "pygments_lexer": "ipython3",
   "version": "3.10.13"
  }
 },
 "nbformat": 4,
 "nbformat_minor": 2
}
